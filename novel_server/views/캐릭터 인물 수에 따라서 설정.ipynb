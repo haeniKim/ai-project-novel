{
 "cells": [
  {
   "cell_type": "code",
   "execution_count": 3,
   "metadata": {},
   "outputs": [],
   "source": [
    "import json\n",
    "\n",
    "# JSON 형식의 데이터 (위의 예시 데이터)\n",
    "data = [\n",
    "  {\n",
    "    \"characterName\": \"Alice\",\n",
    "    \"characterGender\": \"Female\",\n",
    "    \"characterAppearance\": \"Blonde hair, blue eyes\"\n",
    "  },\n",
    "  {\n",
    "    \"characterName\": \"Mark\",\n",
    "    \"characterGender\": \"Male\",\n",
    "    \"characterAppearance\": \"Brown hair, green eyes\"\n",
    "  }\n",
    "]\n",
    "\n"
   ]
  },
  {
   "cell_type": "code",
   "execution_count": 13,
   "metadata": {},
   "outputs": [
    {
     "name": "stdout",
     "output_type": "stream",
     "text": [
      "0 characterName\n",
      "0 characterGender\n",
      "0 characterAppearance\n",
      "1 characterName\n",
      "1 characterGender\n",
      "1 characterAppearance\n"
     ]
    }
   ],
   "source": [
    "for i, character_info in enumerate(data):\n",
    "    character_name = character_info[\"characterName\"]\n",
    "    character_gender = character_info[\"characterGender\"]\n",
    "    character_apperance = character_info[\"characterAppearance\"]\n",
    "    # print(i, character_info)\n",
    "    for chracter in character_info:\n",
    "        print(i, chracter)"
   ]
  },
  {
   "cell_type": "code",
   "execution_count": 18,
   "metadata": {},
   "outputs": [
    {
     "name": "stdout",
     "output_type": "stream",
     "text": [
      "['Alice, Female, Blonde hair, blue eyes', 'Mark, Male, Brown hair, green eyes']\n",
      "<class 'list'>\n"
     ]
    }
   ],
   "source": [
    "character_strings = []  # 각 캐릭터 정보를 문자열로 저장할 리스트\n",
    "\n",
    "for character_info in data:\n",
    "    character_name = character_info[\"characterName\"]\n",
    "    character_gender = character_info[\"characterGender\"]\n",
    "    character_appearance = character_info[\"characterAppearance\"]\n",
    "\n",
    "    # 각 캐릭터 정보를 문자열로 저장\n",
    "    character_string = f\"{character_name}, {character_gender}, {character_appearance}\"\n",
    "\n",
    "    character_strings.append(character_string)  # 캐릭터 정보 문자열을 리스트에 추가\n",
    "\n",
    "print(character_strings)\n",
    "print(type(character_strings))"
   ]
  },
  {
   "cell_type": "code",
   "execution_count": 25,
   "metadata": {},
   "outputs": [
    {
     "name": "stdout",
     "output_type": "stream",
     "text": [
      "Character 1 - Name: Alice, Gender: Female, Appearance: Blonde hair, blue eyes\n",
      "Character 2 - Name: Mark, Gender: Male, Appearance: Brown hair, green eyes\n",
      "Mark\n",
      "{'characterName': 'Alice', 'characterGender': 'Female', 'characterAppearance': 'Blonde hair, blue eyes'}\n"
     ]
    }
   ],
   "source": [
    "data = [\n",
    "    {\n",
    "        \"characterName\": \"Alice\",\n",
    "        \"characterGender\": \"Female\",\n",
    "        \"characterAppearance\": \"Blonde hair, blue eyes\"\n",
    "    },\n",
    "    {\n",
    "        \"characterName\": \"Mark\",\n",
    "        \"characterGender\": \"Male\",\n",
    "        \"characterAppearance\": \"Brown hair, green eyes\"\n",
    "    }\n",
    "]\n",
    "\n",
    "character_num = len(data)\n",
    "\n",
    "# 각 캐릭터 정보를 개별 변수에 저장\n",
    "for i in character_num:\n",
    "    f'chracter{i}' = data[i]\n",
    "\n",
    "# 각 변수에서 원하는 정보 추출\n",
    "name1 = character1[\"characterName\"]\n",
    "gender1 = character1[\"characterGender\"]\n",
    "appearance1 = character1[\"characterAppearance\"]\n",
    "\n",
    "name2 = character2[\"characterName\"]\n",
    "gender2 = character2[\"characterGender\"]\n",
    "appearance2 = character2[\"characterAppearance\"]\n",
    "\n",
    "# 개별 변수에 저장된 정보 출력\n",
    "print(f\"Character 1 - Name: {name1}, Gender: {gender1}, Appearance: {appearance1}\")\n",
    "print(f\"Character 2 - Name: {name2}, Gender: {gender2}, Appearance: {appearance2}\")\n",
    "print(name2)\n",
    "print(data[0])\n"
   ]
  },
  {
   "cell_type": "code",
   "execution_count": 24,
   "metadata": {},
   "outputs": [],
   "source": [
    "data = [\n",
    "    {\n",
    "        \"characterName\": \"Alice\",\n",
    "        \"characterGender\": \"Female\",\n",
    "        \"characterAppearance\": \"Blonde hair, blue eyes\"\n",
    "    },\n",
    "    {\n",
    "        \"characterName\": \"Mark\",\n",
    "        \"characterGender\": \"Male\",\n",
    "        \"characterAppearance\": \"Brown hair, green eyes\"\n",
    "    }\n",
    "]"
   ]
  },
  {
   "cell_type": "code",
   "execution_count": 31,
   "metadata": {},
   "outputs": [
    {
     "name": "stdout",
     "output_type": "stream",
     "text": [
      "Alice, Female, Blonde hair, blue eyes\n",
      "Mark, Male, Brown hair, green eyes\n",
      "Mark, Male, Brown hair, green eyes\n"
     ]
    }
   ],
   "source": [
    "data = [\n",
    "    {\n",
    "        \"characterName\": \"Alice\",\n",
    "        \"characterGender\": \"Female\",\n",
    "        \"characterAppearance\": \"Blonde hair, blue eyes\"\n",
    "    },\n",
    "    {\n",
    "        \"characterName\": \"Mark\",\n",
    "        \"characterGender\": \"Male\",\n",
    "        \"characterAppearance\": \"Brown hair, green eyes\"\n",
    "    }\n",
    "]\n",
    "\n",
    "# 캐릭터 정보를 저장할 리스트 생성\n",
    "characters = []\n",
    "\n",
    "# 각 캐릭터 정보를 리스트에 추가\n",
    "for item in data:\n",
    "    characters.append(item)\n",
    "\n",
    "# 캐릭터 수\n",
    "character_num = len(characters)\n",
    "\n",
    "# 각 캐릭터 정보에 접근하고 출력\n",
    "for i in range(character_num):\n",
    "    character = characters[i]\n",
    "    name = character[\"characterName\"]\n",
    "    gender = character[\"characterGender\"]\n",
    "    appearance = character[\"characterAppearance\"]\n",
    "    info = f\"{name}, {gender}, {appearance}\"\n",
    "    print(info)\n"
   ]
  },
  {
   "cell_type": "code",
   "execution_count": 32,
   "metadata": {},
   "outputs": [
    {
     "name": "stdout",
     "output_type": "stream",
     "text": [
      "info1 - Name: Alice, Gender: Female, Appearance: Blonde hair, blue eyes\n",
      "info2 - Name: Mark, Gender: Male, Appearance: Brown hair, green eyes\n"
     ]
    }
   ],
   "source": [
    "data = [\n",
    "    {\n",
    "        \"characterName\": \"Alice\",\n",
    "        \"characterGender\": \"Female\",\n",
    "        \"characterAppearance\": \"Blonde hair, blue eyes\"\n",
    "    },\n",
    "    {\n",
    "        \"characterName\": \"Mark\",\n",
    "        \"characterGender\": \"Male\",\n",
    "        \"characterAppearance\": \"Brown hair, green eyes\"\n",
    "    }\n",
    "]\n",
    "\n",
    "# 캐릭터 정보를 딕셔너리로 저장\n",
    "character_info = {}\n",
    "\n",
    "for i, item in enumerate(data, start=1):\n",
    "    character_info[f\"info{i}\"] = item\n",
    "\n",
    "# 각 캐릭터 정보에 접근하여 출력\n",
    "for i in range(1, len(data) + 1):\n",
    "    character = character_info[f\"info{i}\"]\n",
    "    name = character[\"characterName\"]\n",
    "    gender = character[\"characterGender\"]\n",
    "    appearance = character[\"characterAppearance\"]\n",
    "    print(f\"info{i} - Name: {name}, Gender: {gender}, Appearance: {appearance}\")\n",
    "    chracter\n"
   ]
  },
  {
   "cell_type": "code",
   "execution_count": 2,
   "metadata": {},
   "outputs": [
    {
     "name": "stdout",
     "output_type": "stream",
     "text": [
      "Alice is Female, Blonde hair, blue eyes\n",
      "Mark is Male, Brown hair, green eyes\n"
     ]
    }
   ],
   "source": [
    "data = [\n",
    "    {\n",
    "        \"characterName\": \"Alice\",\n",
    "        \"characterGender\": \"Female\",\n",
    "        \"characterAppearance\": \"Blonde hair, blue eyes\"\n",
    "    },\n",
    "    {\n",
    "        \"characterName\": \"Mark\",\n",
    "        \"characterGender\": \"Male\",\n",
    "        \"characterAppearance\": \"Brown hair, green eyes\"\n",
    "    }\n",
    "]\n",
    "\n",
    "# 캐릭터 정보를 동적 변수로 저장\n",
    "for i, item in enumerate(data, start=1):\n",
    "    var_name = f\"character{i}\"\n",
    "    exec(f\"{var_name} = '{item['characterName']} is {item['characterGender']}, {item['characterAppearance']}'\")\n",
    "\n",
    "# 동적 변수 출력\n",
    "print(character1)\n",
    "print(character2)\n"
   ]
  },
  {
   "cell_type": "code",
   "execution_count": 5,
   "metadata": {},
   "outputs": [
    {
     "name": "stdout",
     "output_type": "stream",
     "text": [
      "Alice is Female, Blonde hair, blue eyes\n",
      "Mark is Male, Brown hair, green eyes\n",
      "2\n"
     ]
    }
   ],
   "source": [
    "data = [\n",
    "    {\n",
    "        \"characterName\": \"Alice\",\n",
    "        \"characterGender\": \"Female\",\n",
    "        \"characterAppearance\": \"Blonde hair, blue eyes\"\n",
    "    },\n",
    "    {\n",
    "        \"characterName\": \"Mark\",\n",
    "        \"characterGender\": \"Male\",\n",
    "        \"characterAppearance\": \"Brown hair, green eyes\"\n",
    "    }\n",
    "]\n",
    "\n",
    "# 캐릭터 정보를 동적 변수로 저장\n",
    "for i, item in enumerate(data, start=1):\n",
    "    var_name = f\"character{i}\"\n",
    "    globals()[var_name] = f\"{item['characterName']} is {item['characterGender']}, {item['characterAppearance']}\"\n",
    "\n",
    "# 동적 변수 출력\n",
    "print(character1)\n",
    "print(character2)\n",
    "print(len(data))"
   ]
  },
  {
   "cell_type": "code",
   "execution_count": null,
   "metadata": {},
   "outputs": [],
   "source": []
  }
 ],
 "metadata": {
  "kernelspec": {
   "display_name": "september",
   "language": "python",
   "name": "python3"
  },
  "language_info": {
   "codemirror_mode": {
    "name": "ipython",
    "version": 3
   },
   "file_extension": ".py",
   "mimetype": "text/x-python",
   "name": "python",
   "nbconvert_exporter": "python",
   "pygments_lexer": "ipython3",
   "version": "3.8.18"
  },
  "orig_nbformat": 4
 },
 "nbformat": 4,
 "nbformat_minor": 2
}
